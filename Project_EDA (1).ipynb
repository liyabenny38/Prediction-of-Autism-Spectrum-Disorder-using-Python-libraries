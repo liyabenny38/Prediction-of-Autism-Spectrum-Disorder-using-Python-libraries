{
 "cells": [
  {
   "cell_type": "markdown",
   "id": "394be09e",
   "metadata": {},
   "source": [
    "# Autism Screening on Adults- Final Results"
   ]
  },
  {
   "cell_type": "markdown",
   "id": "083096ac",
   "metadata": {},
   "source": [
    "Autism or Autism Spectrum Disorder (ASD) is a neuro- disorder which can be considered as a behavioral disease in which the effect of the disorder is lifelong. According to medical science, the condition starts from childhood and conitnues to adolescence and adulthood. ."
   ]
  },
  {
   "cell_type": "markdown",
   "id": "2a083df3",
   "metadata": {},
   "source": [
    "## Dataset"
   ]
  },
  {
   "cell_type": "markdown",
   "id": "c7027c69",
   "metadata": {},
   "source": [
    "The data set for analyszing the disorder is collected by a survey conducted through an application called ASD. The participants answered around 21 questions ro collect the data.The data was available for three different categories; a) for adult b) for child c) for adolescent. We have selected the ASD screening dataset for adults. The data set is available in the kaggle platform as well as UCI Machine Learning Repository."
   ]
  },
  {
   "cell_type": "markdown",
   "id": "ffa97caf",
   "metadata": {},
   "source": [
    "### Different Variables in the dataset"
   ]
  },
  {
   "cell_type": "markdown",
   "id": "c1744da3",
   "metadata": {},
   "source": [
    "Attribute Id  Attributes Description\n",
    "1               Patient age\n",
    "2               Sex\n",
    "3               Nationality\n",
    "4               The patient suffered from Jaundice problem by birth\n",
    "5               Any family member suffered from pervasive development disorders\n",
    "6               Who is fulfilment the experiment\n",
    "7               The country in which the user lives\n",
    "8               Screening Application used by the user before or not?\n",
    "9               Screening test type\n",
    "10-19           Based on the screening method answers of 10 questions\n",
    "20              Screening Score"
   ]
  },
  {
   "cell_type": "markdown",
   "id": "d5cc1d77",
   "metadata": {},
   "source": [
    "Importing important packages"
   ]
  },
  {
   "cell_type": "code",
   "execution_count": 161,
   "id": "0b3829cc",
   "metadata": {},
   "outputs": [],
   "source": [
    "import pandas as pd\n",
    "import matplotlib.pyplot as plt\n",
    "\n",
    "%matplotlib inline"
   ]
  },
  {
   "cell_type": "markdown",
   "id": "4ab5f303",
   "metadata": {},
   "source": [
    "Reading the data set"
   ]
  },
  {
   "cell_type": "code",
   "execution_count": 162,
   "id": "232386e3",
   "metadata": {},
   "outputs": [],
   "source": [
    "df=pd.read_csv('autism_screening.csv')"
   ]
  },
  {
   "cell_type": "markdown",
   "id": "a1d25bec",
   "metadata": {},
   "source": [
    "printing the initial few rows of the data set"
   ]
  },
  {
   "cell_type": "code",
   "execution_count": 163,
   "id": "4df5a939",
   "metadata": {},
   "outputs": [
    {
     "name": "stdout",
     "output_type": "stream",
     "text": [
      "   A1_Score  A2_Score  A3_Score  A4_Score  A5_Score  A6_Score  A7_Score  \\\n",
      "0         1         1         1         1         0         0         1   \n",
      "1         1         1         0         1         0         0         0   \n",
      "2         1         1         0         1         1         0         1   \n",
      "3         1         1         0         1         0         0         1   \n",
      "4         1         0         0         0         0         0         0   \n",
      "\n",
      "   A8_Score  A9_Score  A10_Score  ...  gender       ethnicity jundice austim  \\\n",
      "0         1         0          0  ...       f  White-European      no     no   \n",
      "1         1         0          1  ...       m          Latino      no    yes   \n",
      "2         1         1          1  ...       m          Latino     yes    yes   \n",
      "3         1         0          1  ...       f  White-European      no    yes   \n",
      "4         1         0          0  ...       f               ?      no     no   \n",
      "\n",
      "   contry_of_res used_app_before result     age_desc relation Class/ASD  \n",
      "0  United States              no    6.0  18 and more     Self        NO  \n",
      "1         Brazil              no    5.0  18 and more     Self        NO  \n",
      "2          Spain              no    8.0  18 and more   Parent       YES  \n",
      "3  United States              no    6.0  18 and more     Self        NO  \n",
      "4          Egypt              no    2.0  18 and more        ?        NO  \n",
      "\n",
      "[5 rows x 21 columns]\n"
     ]
    }
   ],
   "source": [
    "print(df.head(5))"
   ]
  },
  {
   "cell_type": "markdown",
   "id": "53058687",
   "metadata": {},
   "source": [
    "The first 10 columns A1_Score to A10_Score are answersed by the participants inorder to test AQ (Autism Spectrum Quotient). Those questions will be scored as either 1 or 0. The sum of these scores are stored in the other column named 'result'. If the total score is 6 or above, the participant may fall into autism spectrum."
   ]
  },
  {
   "cell_type": "markdown",
   "id": "2f205859",
   "metadata": {},
   "source": [
    "Since the sum of scores are avialable in the result column. Let's discard the first few columns of the data set for now."
   ]
  },
  {
   "cell_type": "code",
   "execution_count": 164,
   "id": "09f734b0",
   "metadata": {},
   "outputs": [],
   "source": [
    "df_revised=df.loc[:,'age':'Class/ASD']"
   ]
  },
  {
   "cell_type": "code",
   "execution_count": 165,
   "id": "7cf4991f",
   "metadata": {},
   "outputs": [
    {
     "name": "stdout",
     "output_type": "stream",
     "text": [
      "    age gender       ethnicity jundice austim  contry_of_res used_app_before  \\\n",
      "0  26.0      f  White-European      no     no  United States              no   \n",
      "1  24.0      m          Latino      no    yes         Brazil              no   \n",
      "2  27.0      m          Latino     yes    yes          Spain              no   \n",
      "3  35.0      f  White-European      no    yes  United States              no   \n",
      "4  40.0      f               ?      no     no          Egypt              no   \n",
      "\n",
      "   result     age_desc relation Class/ASD  \n",
      "0     6.0  18 and more     Self        NO  \n",
      "1     5.0  18 and more     Self        NO  \n",
      "2     8.0  18 and more   Parent       YES  \n",
      "3     6.0  18 and more     Self        NO  \n",
      "4     2.0  18 and more        ?        NO  \n"
     ]
    }
   ],
   "source": [
    "print(df_revised.head(5))"
   ]
  },
  {
   "cell_type": "markdown",
   "id": "df4d4142",
   "metadata": {},
   "source": [
    "Overall structure of the dataset"
   ]
  },
  {
   "cell_type": "code",
   "execution_count": 166,
   "id": "9b131b0f",
   "metadata": {},
   "outputs": [
    {
     "data": {
      "text/plain": [
       "age                float64\n",
       "gender              object\n",
       "ethnicity           object\n",
       "jundice             object\n",
       "austim              object\n",
       "contry_of_res       object\n",
       "used_app_before     object\n",
       "result             float64\n",
       "age_desc            object\n",
       "relation            object\n",
       "Class/ASD           object\n",
       "dtype: object"
      ]
     },
     "execution_count": 166,
     "metadata": {},
     "output_type": "execute_result"
    }
   ],
   "source": [
    "df_revised.dtypes"
   ]
  },
  {
   "cell_type": "markdown",
   "id": "608f5561",
   "metadata": {},
   "source": [
    "Summary of the numerical variables"
   ]
  },
  {
   "cell_type": "code",
   "execution_count": 167,
   "id": "1eceed66",
   "metadata": {},
   "outputs": [
    {
     "data": {
      "text/html": [
       "<div>\n",
       "<style scoped>\n",
       "    .dataframe tbody tr th:only-of-type {\n",
       "        vertical-align: middle;\n",
       "    }\n",
       "\n",
       "    .dataframe tbody tr th {\n",
       "        vertical-align: top;\n",
       "    }\n",
       "\n",
       "    .dataframe thead th {\n",
       "        text-align: right;\n",
       "    }\n",
       "</style>\n",
       "<table border=\"1\" class=\"dataframe\">\n",
       "  <thead>\n",
       "    <tr style=\"text-align: right;\">\n",
       "      <th></th>\n",
       "      <th>age</th>\n",
       "      <th>result</th>\n",
       "    </tr>\n",
       "  </thead>\n",
       "  <tbody>\n",
       "    <tr>\n",
       "      <th>count</th>\n",
       "      <td>702.000000</td>\n",
       "      <td>704.000000</td>\n",
       "    </tr>\n",
       "    <tr>\n",
       "      <th>mean</th>\n",
       "      <td>29.698006</td>\n",
       "      <td>4.875000</td>\n",
       "    </tr>\n",
       "    <tr>\n",
       "      <th>std</th>\n",
       "      <td>16.507465</td>\n",
       "      <td>2.501493</td>\n",
       "    </tr>\n",
       "    <tr>\n",
       "      <th>min</th>\n",
       "      <td>17.000000</td>\n",
       "      <td>0.000000</td>\n",
       "    </tr>\n",
       "    <tr>\n",
       "      <th>25%</th>\n",
       "      <td>21.000000</td>\n",
       "      <td>3.000000</td>\n",
       "    </tr>\n",
       "    <tr>\n",
       "      <th>50%</th>\n",
       "      <td>27.000000</td>\n",
       "      <td>4.000000</td>\n",
       "    </tr>\n",
       "    <tr>\n",
       "      <th>75%</th>\n",
       "      <td>35.000000</td>\n",
       "      <td>7.000000</td>\n",
       "    </tr>\n",
       "    <tr>\n",
       "      <th>max</th>\n",
       "      <td>383.000000</td>\n",
       "      <td>10.000000</td>\n",
       "    </tr>\n",
       "  </tbody>\n",
       "</table>\n",
       "</div>"
      ],
      "text/plain": [
       "              age      result\n",
       "count  702.000000  704.000000\n",
       "mean    29.698006    4.875000\n",
       "std     16.507465    2.501493\n",
       "min     17.000000    0.000000\n",
       "25%     21.000000    3.000000\n",
       "50%     27.000000    4.000000\n",
       "75%     35.000000    7.000000\n",
       "max    383.000000   10.000000"
      ]
     },
     "execution_count": 167,
     "metadata": {},
     "output_type": "execute_result"
    }
   ],
   "source": [
    "df_revised.shape\n",
    "df_revised.describe()"
   ]
  },
  {
   "cell_type": "markdown",
   "id": "4aaffada",
   "metadata": {},
   "source": [
    "The count of age is 2 less that the result which could occur because the two values might be missing for the variable age. However, the mean age of the participants who participated in the sample is 29.7 and the median or second quartile is 27. i.e, 50% of the particioants are above the age of 27.\n",
    "\n",
    "The mean value of the result is 4.875 and the 50% quartile is 4 which means 50% of the people in the data set has values score greater than 4. As per the guidelines, the participants who have a score greater than 6 can be considered referring them  for a special diagnostic assessment."
   ]
  },
  {
   "cell_type": "code",
   "execution_count": 168,
   "id": "ef238cc9",
   "metadata": {},
   "outputs": [
    {
     "data": {
      "text/plain": [
       "age                2\n",
       "gender             0\n",
       "ethnicity          0\n",
       "jundice            0\n",
       "austim             0\n",
       "contry_of_res      0\n",
       "used_app_before    0\n",
       "result             0\n",
       "age_desc           0\n",
       "relation           0\n",
       "Class/ASD          0\n",
       "dtype: int64"
      ]
     },
     "execution_count": 168,
     "metadata": {},
     "output_type": "execute_result"
    }
   ],
   "source": [
    "df_revised.isnull().sum()"
   ]
  },
  {
   "cell_type": "markdown",
   "id": "78ee591c",
   "metadata": {},
   "source": [
    "We can see 2 null values for the column age. Let's drop the rows with null values for now."
   ]
  },
  {
   "cell_type": "code",
   "execution_count": 169,
   "id": "95e5f2ed",
   "metadata": {},
   "outputs": [
    {
     "data": {
      "text/html": [
       "<div>\n",
       "<style scoped>\n",
       "    .dataframe tbody tr th:only-of-type {\n",
       "        vertical-align: middle;\n",
       "    }\n",
       "\n",
       "    .dataframe tbody tr th {\n",
       "        vertical-align: top;\n",
       "    }\n",
       "\n",
       "    .dataframe thead th {\n",
       "        text-align: right;\n",
       "    }\n",
       "</style>\n",
       "<table border=\"1\" class=\"dataframe\">\n",
       "  <thead>\n",
       "    <tr style=\"text-align: right;\">\n",
       "      <th></th>\n",
       "      <th>age</th>\n",
       "      <th>gender</th>\n",
       "      <th>ethnicity</th>\n",
       "      <th>jundice</th>\n",
       "      <th>austim</th>\n",
       "      <th>contry_of_res</th>\n",
       "      <th>used_app_before</th>\n",
       "      <th>result</th>\n",
       "      <th>age_desc</th>\n",
       "      <th>relation</th>\n",
       "      <th>Class/ASD</th>\n",
       "    </tr>\n",
       "  </thead>\n",
       "  <tbody>\n",
       "    <tr>\n",
       "      <th>62</th>\n",
       "      <td>NaN</td>\n",
       "      <td>m</td>\n",
       "      <td>?</td>\n",
       "      <td>no</td>\n",
       "      <td>no</td>\n",
       "      <td>Saudi Arabia</td>\n",
       "      <td>no</td>\n",
       "      <td>0.0</td>\n",
       "      <td>18 and more</td>\n",
       "      <td>?</td>\n",
       "      <td>NO</td>\n",
       "    </tr>\n",
       "    <tr>\n",
       "      <th>91</th>\n",
       "      <td>NaN</td>\n",
       "      <td>f</td>\n",
       "      <td>?</td>\n",
       "      <td>no</td>\n",
       "      <td>no</td>\n",
       "      <td>Jordan</td>\n",
       "      <td>no</td>\n",
       "      <td>4.0</td>\n",
       "      <td>18 and more</td>\n",
       "      <td>?</td>\n",
       "      <td>NO</td>\n",
       "    </tr>\n",
       "  </tbody>\n",
       "</table>\n",
       "</div>"
      ],
      "text/plain": [
       "    age gender ethnicity jundice austim contry_of_res used_app_before  result  \\\n",
       "62  NaN      m         ?      no     no  Saudi Arabia              no     0.0   \n",
       "91  NaN      f         ?      no     no        Jordan              no     4.0   \n",
       "\n",
       "       age_desc relation Class/ASD  \n",
       "62  18 and more        ?        NO  \n",
       "91  18 and more        ?        NO  "
      ]
     },
     "execution_count": 169,
     "metadata": {},
     "output_type": "execute_result"
    }
   ],
   "source": [
    "missing=df_revised['age'].isnull()\n",
    "df_revised.loc[missing,:]\n"
   ]
  },
  {
   "cell_type": "code",
   "execution_count": 170,
   "id": "5d895fd2",
   "metadata": {},
   "outputs": [],
   "source": [
    "df_revised=df_revised.dropna(axis=0,how='any')"
   ]
  },
  {
   "cell_type": "markdown",
   "id": "cf67a99d",
   "metadata": {},
   "source": [
    "Now we deleted the rows with NA values in age column, there are 702 rows left"
   ]
  },
  {
   "cell_type": "markdown",
   "id": "61318ff3",
   "metadata": {},
   "source": [
    "If we look at the summary of the age variable. The maximum value for the age is 383 which is an outlier. Deleting the outlier in the age column."
   ]
  },
  {
   "cell_type": "code",
   "execution_count": 171,
   "id": "0d227a54",
   "metadata": {},
   "outputs": [
    {
     "data": {
      "text/html": [
       "<div>\n",
       "<style scoped>\n",
       "    .dataframe tbody tr th:only-of-type {\n",
       "        vertical-align: middle;\n",
       "    }\n",
       "\n",
       "    .dataframe tbody tr th {\n",
       "        vertical-align: top;\n",
       "    }\n",
       "\n",
       "    .dataframe thead th {\n",
       "        text-align: right;\n",
       "    }\n",
       "</style>\n",
       "<table border=\"1\" class=\"dataframe\">\n",
       "  <thead>\n",
       "    <tr style=\"text-align: right;\">\n",
       "      <th></th>\n",
       "      <th>age</th>\n",
       "      <th>gender</th>\n",
       "      <th>ethnicity</th>\n",
       "      <th>jundice</th>\n",
       "      <th>austim</th>\n",
       "      <th>contry_of_res</th>\n",
       "      <th>used_app_before</th>\n",
       "      <th>result</th>\n",
       "      <th>age_desc</th>\n",
       "      <th>relation</th>\n",
       "      <th>Class/ASD</th>\n",
       "    </tr>\n",
       "  </thead>\n",
       "  <tbody>\n",
       "    <tr>\n",
       "      <th>52</th>\n",
       "      <td>383.0</td>\n",
       "      <td>f</td>\n",
       "      <td>Pasifika</td>\n",
       "      <td>no</td>\n",
       "      <td>no</td>\n",
       "      <td>New Zealand</td>\n",
       "      <td>no</td>\n",
       "      <td>1.0</td>\n",
       "      <td>18 and more</td>\n",
       "      <td>Self</td>\n",
       "      <td>NO</td>\n",
       "    </tr>\n",
       "  </tbody>\n",
       "</table>\n",
       "</div>"
      ],
      "text/plain": [
       "      age gender ethnicity jundice austim contry_of_res used_app_before  \\\n",
       "52  383.0      f  Pasifika      no     no   New Zealand              no   \n",
       "\n",
       "    result     age_desc relation Class/ASD  \n",
       "52     1.0  18 and more     Self        NO  "
      ]
     },
     "execution_count": 171,
     "metadata": {},
     "output_type": "execute_result"
    }
   ],
   "source": [
    "df_revised[df_revised.age==df_revised['age'].max()]"
   ]
  },
  {
   "cell_type": "code",
   "execution_count": 172,
   "id": "587d8a0f",
   "metadata": {},
   "outputs": [
    {
     "data": {
      "text/html": [
       "<div>\n",
       "<style scoped>\n",
       "    .dataframe tbody tr th:only-of-type {\n",
       "        vertical-align: middle;\n",
       "    }\n",
       "\n",
       "    .dataframe tbody tr th {\n",
       "        vertical-align: top;\n",
       "    }\n",
       "\n",
       "    .dataframe thead th {\n",
       "        text-align: right;\n",
       "    }\n",
       "</style>\n",
       "<table border=\"1\" class=\"dataframe\">\n",
       "  <thead>\n",
       "    <tr style=\"text-align: right;\">\n",
       "      <th></th>\n",
       "      <th>age</th>\n",
       "      <th>gender</th>\n",
       "      <th>ethnicity</th>\n",
       "      <th>jundice</th>\n",
       "      <th>austim</th>\n",
       "      <th>contry_of_res</th>\n",
       "      <th>used_app_before</th>\n",
       "      <th>result</th>\n",
       "      <th>age_desc</th>\n",
       "      <th>relation</th>\n",
       "      <th>Class/ASD</th>\n",
       "    </tr>\n",
       "  </thead>\n",
       "  <tbody>\n",
       "    <tr>\n",
       "      <th>0</th>\n",
       "      <td>26.0</td>\n",
       "      <td>f</td>\n",
       "      <td>White-European</td>\n",
       "      <td>no</td>\n",
       "      <td>no</td>\n",
       "      <td>United States</td>\n",
       "      <td>no</td>\n",
       "      <td>6.0</td>\n",
       "      <td>18 and more</td>\n",
       "      <td>Self</td>\n",
       "      <td>NO</td>\n",
       "    </tr>\n",
       "    <tr>\n",
       "      <th>1</th>\n",
       "      <td>24.0</td>\n",
       "      <td>m</td>\n",
       "      <td>Latino</td>\n",
       "      <td>no</td>\n",
       "      <td>yes</td>\n",
       "      <td>Brazil</td>\n",
       "      <td>no</td>\n",
       "      <td>5.0</td>\n",
       "      <td>18 and more</td>\n",
       "      <td>Self</td>\n",
       "      <td>NO</td>\n",
       "    </tr>\n",
       "    <tr>\n",
       "      <th>2</th>\n",
       "      <td>27.0</td>\n",
       "      <td>m</td>\n",
       "      <td>Latino</td>\n",
       "      <td>yes</td>\n",
       "      <td>yes</td>\n",
       "      <td>Spain</td>\n",
       "      <td>no</td>\n",
       "      <td>8.0</td>\n",
       "      <td>18 and more</td>\n",
       "      <td>Parent</td>\n",
       "      <td>YES</td>\n",
       "    </tr>\n",
       "    <tr>\n",
       "      <th>3</th>\n",
       "      <td>35.0</td>\n",
       "      <td>f</td>\n",
       "      <td>White-European</td>\n",
       "      <td>no</td>\n",
       "      <td>yes</td>\n",
       "      <td>United States</td>\n",
       "      <td>no</td>\n",
       "      <td>6.0</td>\n",
       "      <td>18 and more</td>\n",
       "      <td>Self</td>\n",
       "      <td>NO</td>\n",
       "    </tr>\n",
       "    <tr>\n",
       "      <th>4</th>\n",
       "      <td>40.0</td>\n",
       "      <td>f</td>\n",
       "      <td>?</td>\n",
       "      <td>no</td>\n",
       "      <td>no</td>\n",
       "      <td>Egypt</td>\n",
       "      <td>no</td>\n",
       "      <td>2.0</td>\n",
       "      <td>18 and more</td>\n",
       "      <td>?</td>\n",
       "      <td>NO</td>\n",
       "    </tr>\n",
       "    <tr>\n",
       "      <th>...</th>\n",
       "      <td>...</td>\n",
       "      <td>...</td>\n",
       "      <td>...</td>\n",
       "      <td>...</td>\n",
       "      <td>...</td>\n",
       "      <td>...</td>\n",
       "      <td>...</td>\n",
       "      <td>...</td>\n",
       "      <td>...</td>\n",
       "      <td>...</td>\n",
       "      <td>...</td>\n",
       "    </tr>\n",
       "    <tr>\n",
       "      <th>699</th>\n",
       "      <td>25.0</td>\n",
       "      <td>f</td>\n",
       "      <td>White-European</td>\n",
       "      <td>no</td>\n",
       "      <td>no</td>\n",
       "      <td>Russia</td>\n",
       "      <td>no</td>\n",
       "      <td>7.0</td>\n",
       "      <td>18 and more</td>\n",
       "      <td>Self</td>\n",
       "      <td>YES</td>\n",
       "    </tr>\n",
       "    <tr>\n",
       "      <th>700</th>\n",
       "      <td>34.0</td>\n",
       "      <td>m</td>\n",
       "      <td>Hispanic</td>\n",
       "      <td>no</td>\n",
       "      <td>no</td>\n",
       "      <td>Mexico</td>\n",
       "      <td>no</td>\n",
       "      <td>3.0</td>\n",
       "      <td>18 and more</td>\n",
       "      <td>Parent</td>\n",
       "      <td>NO</td>\n",
       "    </tr>\n",
       "    <tr>\n",
       "      <th>701</th>\n",
       "      <td>24.0</td>\n",
       "      <td>f</td>\n",
       "      <td>?</td>\n",
       "      <td>no</td>\n",
       "      <td>no</td>\n",
       "      <td>Russia</td>\n",
       "      <td>no</td>\n",
       "      <td>7.0</td>\n",
       "      <td>18 and more</td>\n",
       "      <td>?</td>\n",
       "      <td>YES</td>\n",
       "    </tr>\n",
       "    <tr>\n",
       "      <th>702</th>\n",
       "      <td>35.0</td>\n",
       "      <td>m</td>\n",
       "      <td>South Asian</td>\n",
       "      <td>no</td>\n",
       "      <td>no</td>\n",
       "      <td>Pakistan</td>\n",
       "      <td>no</td>\n",
       "      <td>6.0</td>\n",
       "      <td>18 and more</td>\n",
       "      <td>Self</td>\n",
       "      <td>NO</td>\n",
       "    </tr>\n",
       "    <tr>\n",
       "      <th>703</th>\n",
       "      <td>26.0</td>\n",
       "      <td>f</td>\n",
       "      <td>White-European</td>\n",
       "      <td>no</td>\n",
       "      <td>no</td>\n",
       "      <td>Cyprus</td>\n",
       "      <td>no</td>\n",
       "      <td>8.0</td>\n",
       "      <td>18 and more</td>\n",
       "      <td>Self</td>\n",
       "      <td>YES</td>\n",
       "    </tr>\n",
       "  </tbody>\n",
       "</table>\n",
       "<p>701 rows × 11 columns</p>\n",
       "</div>"
      ],
      "text/plain": [
       "      age gender       ethnicity jundice austim  contry_of_res  \\\n",
       "0    26.0      f  White-European      no     no  United States   \n",
       "1    24.0      m          Latino      no    yes         Brazil   \n",
       "2    27.0      m          Latino     yes    yes          Spain   \n",
       "3    35.0      f  White-European      no    yes  United States   \n",
       "4    40.0      f               ?      no     no          Egypt   \n",
       "..    ...    ...             ...     ...    ...            ...   \n",
       "699  25.0      f  White-European      no     no         Russia   \n",
       "700  34.0      m        Hispanic      no     no         Mexico   \n",
       "701  24.0      f               ?      no     no         Russia   \n",
       "702  35.0      m     South Asian      no     no       Pakistan   \n",
       "703  26.0      f  White-European      no     no         Cyprus   \n",
       "\n",
       "    used_app_before  result     age_desc relation Class/ASD  \n",
       "0                no     6.0  18 and more     Self        NO  \n",
       "1                no     5.0  18 and more     Self        NO  \n",
       "2                no     8.0  18 and more   Parent       YES  \n",
       "3                no     6.0  18 and more     Self        NO  \n",
       "4                no     2.0  18 and more        ?        NO  \n",
       "..              ...     ...          ...      ...       ...  \n",
       "699              no     7.0  18 and more     Self       YES  \n",
       "700              no     3.0  18 and more   Parent        NO  \n",
       "701              no     7.0  18 and more        ?       YES  \n",
       "702              no     6.0  18 and more     Self        NO  \n",
       "703              no     8.0  18 and more     Self       YES  \n",
       "\n",
       "[701 rows x 11 columns]"
      ]
     },
     "execution_count": 172,
     "metadata": {},
     "output_type": "execute_result"
    }
   ],
   "source": [
    "df_revised=df_revised.drop(labels=52)\n",
    "df_revised"
   ]
  },
  {
   "cell_type": "code",
   "execution_count": 173,
   "id": "34eb689d",
   "metadata": {},
   "outputs": [
    {
     "data": {
      "text/plain": [
       "age                45\n",
       "gender              2\n",
       "ethnicity          12\n",
       "jundice             2\n",
       "austim              2\n",
       "contry_of_res      67\n",
       "used_app_before     2\n",
       "result             11\n",
       "age_desc            1\n",
       "relation            6\n",
       "Class/ASD           2\n",
       "dtype: int64"
      ]
     },
     "execution_count": 173,
     "metadata": {},
     "output_type": "execute_result"
    }
   ],
   "source": [
    "df_revised.nunique()"
   ]
  },
  {
   "cell_type": "markdown",
   "id": "a53e8fa5",
   "metadata": {},
   "source": [
    "### Further Analysis"
   ]
  },
  {
   "cell_type": "markdown",
   "id": "98f66022",
   "metadata": {},
   "source": [
    "Finding any relationship between age and the result column"
   ]
  },
  {
   "cell_type": "code",
   "execution_count": 174,
   "id": "0145cfe2",
   "metadata": {},
   "outputs": [
    {
     "data": {
      "text/plain": [
       "<Figure size 432x288 with 0 Axes>"
      ]
     },
     "metadata": {},
     "output_type": "display_data"
    },
    {
     "data": {
      "image/png": "[encoded data removed]",
      "text/plain": [
       "<Figure size 432x288 with 1 Axes>"
      ]
     },
     "metadata": {
      "needs_background": "light"
     },
     "output_type": "display_data"
    }
   ],
   "source": [
    "plt.figure()\n",
    "df_revised.plot.scatter('age','result')\n",
    "#plt.bar(df_revised['age'],df_revised['result'],color='red')\n",
    "plt.show()"
   ]
  },
  {
   "cell_type": "markdown",
   "id": "aa7829f6",
   "metadata": {},
   "source": [
    "As we can see in the above graph, age does not show any significant effect on the result score.For example, people at (say 20) have a score from 0 to 10."
   ]
  },
  {
   "cell_type": "markdown",
   "id": "19520989",
   "metadata": {},
   "source": [
    "There gender column distinguishes the male and female participants in the survey. There were 366 males and 335 females in the data set."
   ]
  },
  {
   "cell_type": "code",
   "execution_count": 175,
   "id": "41bca45f",
   "metadata": {},
   "outputs": [
    {
     "data": {
      "text/plain": [
       "m    366\n",
       "f    335\n",
       "Name: gender, dtype: int64"
      ]
     },
     "execution_count": 175,
     "metadata": {},
     "output_type": "execute_result"
    }
   ],
   "source": [
    "df_revised['gender'].value_counts()"
   ]
  },
  {
   "cell_type": "markdown",
   "id": "46832588",
   "metadata": {},
   "source": [
    "The varibale ethnicity describes the social group in which the participant belong to."
   ]
  },
  {
   "cell_type": "code",
   "execution_count": 176,
   "id": "5519ff4e",
   "metadata": {},
   "outputs": [
    {
     "data": {
      "text/plain": [
       "array(['White-European', 'Latino', '?', 'Others', 'Black', 'Asian',\n",
       "       'Middle Eastern ', 'Pasifika', 'South Asian', 'Hispanic',\n",
       "       'Turkish', 'others'], dtype=object)"
      ]
     },
     "execution_count": 176,
     "metadata": {},
     "output_type": "execute_result"
    }
   ],
   "source": [
    "df_revised['ethnicity'].unique()"
   ]
  },
  {
   "cell_type": "markdown",
   "id": "54bd5017",
   "metadata": {},
   "source": [
    "We could see a ? in the data set which is unknown. Lets change the ? with the value unknown"
   ]
  },
  {
   "cell_type": "code",
   "execution_count": 177,
   "id": "83dd00cf",
   "metadata": {},
   "outputs": [],
   "source": [
    "df_revised['ethnicity'] = df_revised['ethnicity'].replace('?', 'Unknown')"
   ]
  },
  {
   "cell_type": "markdown",
   "id": "0c4c447d",
   "metadata": {},
   "source": [
    "We can also see two others which has been identified as two different unique values. Replacing otheres with Others in the ethinicity variable"
   ]
  },
  {
   "cell_type": "code",
   "execution_count": 178,
   "id": "64a90ad8",
   "metadata": {},
   "outputs": [],
   "source": [
    "df_revised['ethnicity'] = df_revised['ethnicity'].replace('others', 'Others')"
   ]
  },
  {
   "cell_type": "code",
   "execution_count": 179,
   "id": "ff4bd922",
   "metadata": {},
   "outputs": [
    {
     "data": {
      "text/html": [
       "<div>\n",
       "<style scoped>\n",
       "    .dataframe tbody tr th:only-of-type {\n",
       "        vertical-align: middle;\n",
       "    }\n",
       "\n",
       "    .dataframe tbody tr th {\n",
       "        vertical-align: top;\n",
       "    }\n",
       "\n",
       "    .dataframe thead th {\n",
       "        text-align: right;\n",
       "    }\n",
       "</style>\n",
       "<table border=\"1\" class=\"dataframe\">\n",
       "  <thead>\n",
       "    <tr style=\"text-align: right;\">\n",
       "      <th></th>\n",
       "      <th>age</th>\n",
       "      <th>gender</th>\n",
       "      <th>ethnicity</th>\n",
       "      <th>jundice</th>\n",
       "      <th>austim</th>\n",
       "      <th>contry_of_res</th>\n",
       "      <th>used_app_before</th>\n",
       "      <th>result</th>\n",
       "      <th>age_desc</th>\n",
       "      <th>relation</th>\n",
       "      <th>Class/ASD</th>\n",
       "    </tr>\n",
       "  </thead>\n",
       "  <tbody>\n",
       "    <tr>\n",
       "      <th>0</th>\n",
       "      <td>26.0</td>\n",
       "      <td>f</td>\n",
       "      <td>White-European</td>\n",
       "      <td>no</td>\n",
       "      <td>no</td>\n",
       "      <td>United States</td>\n",
       "      <td>no</td>\n",
       "      <td>6.0</td>\n",
       "      <td>18 and more</td>\n",
       "      <td>Self</td>\n",
       "      <td>NO</td>\n",
       "    </tr>\n",
       "    <tr>\n",
       "      <th>1</th>\n",
       "      <td>24.0</td>\n",
       "      <td>m</td>\n",
       "      <td>Latino</td>\n",
       "      <td>no</td>\n",
       "      <td>yes</td>\n",
       "      <td>Brazil</td>\n",
       "      <td>no</td>\n",
       "      <td>5.0</td>\n",
       "      <td>18 and more</td>\n",
       "      <td>Self</td>\n",
       "      <td>NO</td>\n",
       "    </tr>\n",
       "    <tr>\n",
       "      <th>2</th>\n",
       "      <td>27.0</td>\n",
       "      <td>m</td>\n",
       "      <td>Latino</td>\n",
       "      <td>yes</td>\n",
       "      <td>yes</td>\n",
       "      <td>Spain</td>\n",
       "      <td>no</td>\n",
       "      <td>8.0</td>\n",
       "      <td>18 and more</td>\n",
       "      <td>Parent</td>\n",
       "      <td>YES</td>\n",
       "    </tr>\n",
       "    <tr>\n",
       "      <th>3</th>\n",
       "      <td>35.0</td>\n",
       "      <td>f</td>\n",
       "      <td>White-European</td>\n",
       "      <td>no</td>\n",
       "      <td>yes</td>\n",
       "      <td>United States</td>\n",
       "      <td>no</td>\n",
       "      <td>6.0</td>\n",
       "      <td>18 and more</td>\n",
       "      <td>Self</td>\n",
       "      <td>NO</td>\n",
       "    </tr>\n",
       "    <tr>\n",
       "      <th>4</th>\n",
       "      <td>40.0</td>\n",
       "      <td>f</td>\n",
       "      <td>Unknown</td>\n",
       "      <td>no</td>\n",
       "      <td>no</td>\n",
       "      <td>Egypt</td>\n",
       "      <td>no</td>\n",
       "      <td>2.0</td>\n",
       "      <td>18 and more</td>\n",
       "      <td>?</td>\n",
       "      <td>NO</td>\n",
       "    </tr>\n",
       "    <tr>\n",
       "      <th>...</th>\n",
       "      <td>...</td>\n",
       "      <td>...</td>\n",
       "      <td>...</td>\n",
       "      <td>...</td>\n",
       "      <td>...</td>\n",
       "      <td>...</td>\n",
       "      <td>...</td>\n",
       "      <td>...</td>\n",
       "      <td>...</td>\n",
       "      <td>...</td>\n",
       "      <td>...</td>\n",
       "    </tr>\n",
       "    <tr>\n",
       "      <th>699</th>\n",
       "      <td>25.0</td>\n",
       "      <td>f</td>\n",
       "      <td>White-European</td>\n",
       "      <td>no</td>\n",
       "      <td>no</td>\n",
       "      <td>Russia</td>\n",
       "      <td>no</td>\n",
       "      <td>7.0</td>\n",
       "      <td>18 and more</td>\n",
       "      <td>Self</td>\n",
       "      <td>YES</td>\n",
       "    </tr>\n",
       "    <tr>\n",
       "      <th>700</th>\n",
       "      <td>34.0</td>\n",
       "      <td>m</td>\n",
       "      <td>Hispanic</td>\n",
       "      <td>no</td>\n",
       "      <td>no</td>\n",
       "      <td>Mexico</td>\n",
       "      <td>no</td>\n",
       "      <td>3.0</td>\n",
       "      <td>18 and more</td>\n",
       "      <td>Parent</td>\n",
       "      <td>NO</td>\n",
       "    </tr>\n",
       "    <tr>\n",
       "      <th>701</th>\n",
       "      <td>24.0</td>\n",
       "      <td>f</td>\n",
       "      <td>Unknown</td>\n",
       "      <td>no</td>\n",
       "      <td>no</td>\n",
       "      <td>Russia</td>\n",
       "      <td>no</td>\n",
       "      <td>7.0</td>\n",
       "      <td>18 and more</td>\n",
       "      <td>?</td>\n",
       "      <td>YES</td>\n",
       "    </tr>\n",
       "    <tr>\n",
       "      <th>702</th>\n",
       "      <td>35.0</td>\n",
       "      <td>m</td>\n",
       "      <td>South Asian</td>\n",
       "      <td>no</td>\n",
       "      <td>no</td>\n",
       "      <td>Pakistan</td>\n",
       "      <td>no</td>\n",
       "      <td>6.0</td>\n",
       "      <td>18 and more</td>\n",
       "      <td>Self</td>\n",
       "      <td>NO</td>\n",
       "    </tr>\n",
       "    <tr>\n",
       "      <th>703</th>\n",
       "      <td>26.0</td>\n",
       "      <td>f</td>\n",
       "      <td>White-European</td>\n",
       "      <td>no</td>\n",
       "      <td>no</td>\n",
       "      <td>Cyprus</td>\n",
       "      <td>no</td>\n",
       "      <td>8.0</td>\n",
       "      <td>18 and more</td>\n",
       "      <td>Self</td>\n",
       "      <td>YES</td>\n",
       "    </tr>\n",
       "  </tbody>\n",
       "</table>\n",
       "<p>701 rows × 11 columns</p>\n",
       "</div>"
      ],
      "text/plain": [
       "      age gender       ethnicity jundice austim  contry_of_res  \\\n",
       "0    26.0      f  White-European      no     no  United States   \n",
       "1    24.0      m          Latino      no    yes         Brazil   \n",
       "2    27.0      m          Latino     yes    yes          Spain   \n",
       "3    35.0      f  White-European      no    yes  United States   \n",
       "4    40.0      f         Unknown      no     no          Egypt   \n",
       "..    ...    ...             ...     ...    ...            ...   \n",
       "699  25.0      f  White-European      no     no         Russia   \n",
       "700  34.0      m        Hispanic      no     no         Mexico   \n",
       "701  24.0      f         Unknown      no     no         Russia   \n",
       "702  35.0      m     South Asian      no     no       Pakistan   \n",
       "703  26.0      f  White-European      no     no         Cyprus   \n",
       "\n",
       "    used_app_before  result     age_desc relation Class/ASD  \n",
       "0                no     6.0  18 and more     Self        NO  \n",
       "1                no     5.0  18 and more     Self        NO  \n",
       "2                no     8.0  18 and more   Parent       YES  \n",
       "3                no     6.0  18 and more     Self        NO  \n",
       "4                no     2.0  18 and more        ?        NO  \n",
       "..              ...     ...          ...      ...       ...  \n",
       "699              no     7.0  18 and more     Self       YES  \n",
       "700              no     3.0  18 and more   Parent        NO  \n",
       "701              no     7.0  18 and more        ?       YES  \n",
       "702              no     6.0  18 and more     Self        NO  \n",
       "703              no     8.0  18 and more     Self       YES  \n",
       "\n",
       "[701 rows x 11 columns]"
      ]
     },
     "execution_count": 179,
     "metadata": {},
     "output_type": "execute_result"
    }
   ],
   "source": [
    "df_revised"
   ]
  },
  {
   "cell_type": "markdown",
   "id": "f02793d2",
   "metadata": {},
   "source": [
    "The below graph shows the result score differentiated with gender variable. The graph depicts that compared to females, male cateogory has higher number of adults with AQ resulting score greater than 3."
   ]
  },
  {
   "cell_type": "code",
   "execution_count": 180,
   "id": "9f24c58e",
   "metadata": {},
   "outputs": [
    {
     "data": {
      "text/plain": [
       "<Figure size 432x288 with 0 Axes>"
      ]
     },
     "metadata": {},
     "output_type": "display_data"
    },
    {
     "data": {
      "image/png": "[encoded data removed]",
      "text/plain": [
       "<Figure size 432x288 with 2 Axes>"
      ]
     },
     "metadata": {
      "needs_background": "light"
     },
     "output_type": "display_data"
    }
   ],
   "source": [
    "\n",
    "plt.figure()\n",
    "df_revised.hist(column='result', by='gender')\n",
    "plt.show()"
   ]
  },
  {
   "cell_type": "markdown",
   "id": "d41288db",
   "metadata": {},
   "source": [
    "Whether the participant is already identified in ASD class or not is recorded in the data set under the column 'Class/ASD'. There are 189 participants who are idenfified with autism diorder."
   ]
  },
  {
   "cell_type": "code",
   "execution_count": 181,
   "id": "9d320b39",
   "metadata": {},
   "outputs": [
    {
     "data": {
      "text/plain": [
       "NO     512\n",
       "YES    189\n",
       "Name: Class/ASD, dtype: int64"
      ]
     },
     "execution_count": 181,
     "metadata": {},
     "output_type": "execute_result"
    }
   ],
   "source": [
    "df_revised['Class/ASD'].value_counts()"
   ]
  },
  {
   "cell_type": "code",
   "execution_count": 182,
   "id": "e389869e",
   "metadata": {},
   "outputs": [
    {
     "data": {
      "image/png": "[encoded data removed]",
      "text/plain": [
       "<Figure size 432x288 with 1 Axes>"
      ]
     },
     "metadata": {},
     "output_type": "display_data"
    }
   ],
   "source": [
    "\n",
    "plt.figure()\n",
    "plt.pie(df_revised['Class/ASD'].value_counts(),labels=df_revised['Class/ASD'].unique(),startangle=90, autopct='%1.0f%%')\n",
    "plt.title('Pie chart: participants with or without classified under ASD')\n",
    "plt.show()"
   ]
  },
  {
   "cell_type": "markdown",
   "id": "1e67a9c0",
   "metadata": {},
   "source": [
    "The number of particpants with result score 6 or above is 259."
   ]
  },
  {
   "cell_type": "code",
   "execution_count": 183,
   "id": "7e64f96b",
   "metadata": {},
   "outputs": [
    {
     "data": {
      "text/plain": [
       "259"
      ]
     },
     "execution_count": 183,
     "metadata": {},
     "output_type": "execute_result"
    }
   ],
   "source": [
    "len(df_revised.query('result>=6'))"
   ]
  },
  {
   "cell_type": "markdown",
   "id": "f64fbaab",
   "metadata": {},
   "source": [
    "The graph below says that there is a strong relationship between the ASD class and result scored by the particpants. if the score is above 7, then those participants are under ASD class as per the dataset."
   ]
  },
  {
   "cell_type": "code",
   "execution_count": 184,
   "id": "31b5921a",
   "metadata": {},
   "outputs": [],
   "source": [
    "ASD_col=df_revised['Class/ASD']\n",
    "result=df_revised.query('result>=6')"
   ]
  },
  {
   "cell_type": "code",
   "execution_count": 185,
   "id": "826a4d46",
   "metadata": {},
   "outputs": [
    {
     "data": {
      "text/plain": [
       "<Figure size 432x288 with 0 Axes>"
      ]
     },
     "metadata": {},
     "output_type": "display_data"
    },
    {
     "data": {
      "image/png": "[encoded data removed]",
      "text/plain": [
       "<Figure size 432x288 with 2 Axes>"
      ]
     },
     "metadata": {
      "needs_background": "light"
     },
     "output_type": "display_data"
    }
   ],
   "source": [
    "plt.figure()\n",
    "df_revised.hist(column='result', by='Class/ASD', color='red')\n",
    "plt.xlabel('result')\n",
    "plt.ylabel('Number of participants')\n",
    "plt.title('Grouping the result by ASD class')\n",
    "plt.show()"
   ]
  },
  {
   "cell_type": "markdown",
   "id": "4ea6968d",
   "metadata": {},
   "source": [
    "From the below graph, we can say that participants who are Latinos have scored from 5 to 10. Asians, black and white- European have got all range of score 0 to 10. We cannot figure out a strong relationship between ethnicity and result at a glance."
   ]
  },
  {
   "cell_type": "code",
   "execution_count": 186,
   "id": "a40f1c55",
   "metadata": {},
   "outputs": [
    {
     "data": {
      "text/plain": [
       "<Figure size 432x288 with 0 Axes>"
      ]
     },
     "metadata": {},
     "output_type": "display_data"
    },
    {
     "data": {
      "image/png": "[encoded data removed]",
      "text/plain": [
       "<Figure size 432x288 with 1 Axes>"
      ]
     },
     "metadata": {
      "needs_background": "light"
     },
     "output_type": "display_data"
    }
   ],
   "source": [
    "plt.figure()\n",
    "fig, ax = plt.subplots()\n",
    "ax.scatter(df_revised['result'],df_revised['ethnicity'])\n",
    "plt.xlabel('result')\n",
    "plt.ylabel('Ethnicity')\n",
    "plt.show()"
   ]
  },
  {
   "cell_type": "markdown",
   "id": "f7cd6cec",
   "metadata": {},
   "source": [
    "In conlcusion, we can see a significant correlation between result and ASD classification. Age and result do not show any connection and the males in the survey participants have comparitively higher score than females."
   ]
  },
  {
   "cell_type": "code",
   "execution_count": 187,
   "id": "6b149be7",
   "metadata": {
    "scrolled": true
   },
   "outputs": [
    {
     "name": "stdout",
     "output_type": "stream",
     "text": [
      "[ 26.  24.  27.  35.  40.  36.  17.  64.  29.  33.  18.  31.  30.  34.\n",
      "  38.  42.  43.  48.  37.  55.  50.  53.  20.  28.  21. 383.  47.  32.\n",
      "  44.  nan  19.  58.  45.  22.  39.  25.  23.  54.  60.  41.  46.  56.\n",
      "  61.  59.  52.  49.  51.]\n",
      "['f' 'm']\n",
      "['White-European' 'Latino' '?' 'Others' 'Black' 'Asian' 'Middle Eastern '\n",
      " 'Pasifika' 'South Asian' 'Hispanic' 'Turkish' 'others']\n",
      "['no' 'yes']\n",
      "['no' 'yes']\n",
      "['United States' 'Brazil' 'Spain' 'Egypt' 'New Zealand' 'Bahamas'\n",
      " 'Burundi' 'Austria' 'Argentina' 'Jordan' 'Ireland' 'United Arab Emirates'\n",
      " 'Afghanistan' 'Lebanon' 'United Kingdom' 'South Africa' 'Italy'\n",
      " 'Pakistan' 'Bangladesh' 'Chile' 'France' 'China' 'Australia' 'Canada'\n",
      " 'Saudi Arabia' 'Netherlands' 'Romania' 'Sweden' 'Tonga' 'Oman' 'India'\n",
      " 'Philippines' 'Sri Lanka' 'Sierra Leone' 'Ethiopia' 'Viet Nam' 'Iran'\n",
      " 'Costa Rica' 'Germany' 'Mexico' 'Russia' 'Armenia' 'Iceland' 'Nicaragua'\n",
      " 'Hong Kong' 'Japan' 'Ukraine' 'Kazakhstan' 'AmericanSamoa' 'Uruguay'\n",
      " 'Serbia' 'Portugal' 'Malaysia' 'Ecuador' 'Niger' 'Belgium' 'Bolivia'\n",
      " 'Aruba' 'Finland' 'Turkey' 'Nepal' 'Indonesia' 'Angola' 'Azerbaijan'\n",
      " 'Iraq' 'Czech Republic' 'Cyprus']\n",
      "['no' 'yes']\n",
      "[ 6.  5.  8.  2.  9. 10.  4.  3.  0.  1.  7.]\n",
      "['18 and more']\n",
      "['Self' 'Parent' '?' 'Health care professional' 'Relative' 'Others']\n",
      "['NO' 'YES']\n"
     ]
    }
   ],
   "source": [
    "for col in df_revised:\n",
    "    print(df[col].unique())"
   ]
  },
  {
   "cell_type": "markdown",
   "id": "ec449af3",
   "metadata": {},
   "source": [
    "## Modelling the data"
   ]
  },
  {
   "cell_type": "code",
   "execution_count": 188,
   "id": "4f37eeb8",
   "metadata": {},
   "outputs": [],
   "source": [
    "from sklearn import preprocessing\n",
    "from sklearn.model_selection import train_test_split\n",
    "from sklearn.neighbors import KNeighborsClassifier\n",
    "from sklearn.metrics import classification_report,confusion_matrix, accuracy_score\n",
    "import numpy as np\n",
    "import seaborn as sn"
   ]
  },
  {
   "cell_type": "markdown",
   "id": "12171ea1",
   "metadata": {},
   "source": [
    "The response variable for our study is the categorical variable 'class/ASD' which is the screening test type. i.e, This variable will classify the individuals into persons with ASD (Autism Spectrum Disorder) and without ASD. The KNN model will be aplied on our predictor variables inorder to classify our response variable."
   ]
  },
  {
   "cell_type": "markdown",
   "id": "2360a63b",
   "metadata": {},
   "source": [
    "Response Variable: Class/ASD\n",
    "Predictor variables to be considering: \n",
    "age,\n",
    "gender,\n",
    "ethnicity,\n",
    "jundice,\n",
    "autism,\n",
    "result,\n",
    "country of residence."
   ]
  },
  {
   "cell_type": "code",
   "execution_count": 189,
   "id": "81c28fad",
   "metadata": {
    "scrolled": false
   },
   "outputs": [
    {
     "data": {
      "text/plain": [
       "Index(['age', 'gender', 'ethnicity', 'jundice', 'austim', 'contry_of_res',\n",
       "       'used_app_before', 'result', 'age_desc', 'relation', 'Class/ASD'],\n",
       "      dtype='object')"
      ]
     },
     "execution_count": 189,
     "metadata": {},
     "output_type": "execute_result"
    }
   ],
   "source": [
    "df_revised.columns"
   ]
  },
  {
   "cell_type": "markdown",
   "id": "a47f9609",
   "metadata": {},
   "source": [
    "#### Renaming few variables to rectify some mistakes"
   ]
  },
  {
   "cell_type": "code",
   "execution_count": 190,
   "id": "63365891",
   "metadata": {},
   "outputs": [],
   "source": [
    "df_revised.rename(columns = {'jundice':'jaundice', 'austim':'autism','contry_of_res':'country','Class/ASD':'Class'}, inplace = True)"
   ]
  },
  {
   "cell_type": "code",
   "execution_count": 191,
   "id": "04f033f8",
   "metadata": {},
   "outputs": [
    {
     "data": {
      "text/plain": [
       "Index(['age', 'gender', 'ethnicity', 'jaundice', 'autism', 'country',\n",
       "       'used_app_before', 'result', 'age_desc', 'relation', 'Class'],\n",
       "      dtype='object')"
      ]
     },
     "execution_count": 191,
     "metadata": {},
     "output_type": "execute_result"
    }
   ],
   "source": [
    "df_revised.columns"
   ]
  },
  {
   "cell_type": "markdown",
   "id": "31063796",
   "metadata": {},
   "source": [
    "#### Dividing the data frame into response variable and predictor variables"
   ]
  },
  {
   "cell_type": "markdown",
   "id": "ac0a5013",
   "metadata": {},
   "source": [
    "### Predictor variables are given below"
   ]
  },
  {
   "cell_type": "code",
   "execution_count": 192,
   "id": "969d1a39",
   "metadata": {},
   "outputs": [
    {
     "name": "stdout",
     "output_type": "stream",
     "text": [
      "    age gender       ethnicity jaundice autism        country  result\n",
      "0  26.0      f  White-European       no     no  United States     6.0\n",
      "1  24.0      m          Latino       no    yes         Brazil     5.0\n",
      "2  27.0      m          Latino      yes    yes          Spain     8.0\n",
      "3  35.0      f  White-European       no    yes  United States     6.0\n",
      "4  40.0      f         Unknown       no     no          Egypt     2.0\n"
     ]
    }
   ],
   "source": [
    "X=df_revised.drop(columns=['Class','relation','age_desc','used_app_before'], axis = 1) \n",
    "print(X.head())"
   ]
  },
  {
   "cell_type": "markdown",
   "id": "6502e8f1",
   "metadata": {},
   "source": [
    "### Response variable"
   ]
  },
  {
   "cell_type": "code",
   "execution_count": 193,
   "id": "932faeed",
   "metadata": {},
   "outputs": [
    {
     "name": "stdout",
     "output_type": "stream",
     "text": [
      "0     NO\n",
      "1     NO\n",
      "2    YES\n",
      "3     NO\n",
      "4     NO\n",
      "Name: Class, dtype: object\n"
     ]
    }
   ],
   "source": [
    "Y=df_revised['Class']\n",
    "print(Y.head())"
   ]
  },
  {
   "cell_type": "markdown",
   "id": "1ec35850",
   "metadata": {},
   "source": [
    "#### Dividing the predictor variables into categorical and numerical variables"
   ]
  },
  {
   "cell_type": "markdown",
   "id": "135ca2f2",
   "metadata": {},
   "source": [
    "### Categorical predictor variables are grouped together below"
   ]
  },
  {
   "cell_type": "code",
   "execution_count": 194,
   "id": "ca22145f",
   "metadata": {},
   "outputs": [
    {
     "name": "stdout",
     "output_type": "stream",
     "text": [
      "    gender       ethnicity jaundice autism        country\n",
      "0        f  White-European       no     no  United States\n",
      "1        m          Latino       no    yes         Brazil\n",
      "2        m          Latino      yes    yes          Spain\n",
      "3        f  White-European       no    yes  United States\n",
      "4        f         Unknown       no     no          Egypt\n",
      "..     ...             ...      ...    ...            ...\n",
      "699      f  White-European       no     no         Russia\n",
      "700      m        Hispanic       no     no         Mexico\n",
      "701      f         Unknown       no     no         Russia\n",
      "702      m     South Asian       no     no       Pakistan\n",
      "703      f  White-European       no     no         Cyprus\n",
      "\n",
      "[701 rows x 5 columns]\n"
     ]
    }
   ],
   "source": [
    "cat_cols = X.select_dtypes(include='object').columns\n",
    "X_cat = X[cat_cols]\n",
    "print(X_cat)\n"
   ]
  },
  {
   "cell_type": "markdown",
   "id": "8e4edadd",
   "metadata": {},
   "source": [
    "### Numerical predictor variables are grouped together below"
   ]
  },
  {
   "cell_type": "code",
   "execution_count": 195,
   "id": "3297c327",
   "metadata": {},
   "outputs": [
    {
     "name": "stdout",
     "output_type": "stream",
     "text": [
      "      age  result\n",
      "0    26.0     6.0\n",
      "1    24.0     5.0\n",
      "2    27.0     8.0\n",
      "3    35.0     6.0\n",
      "4    40.0     2.0\n",
      "..    ...     ...\n",
      "699  25.0     7.0\n",
      "700  34.0     3.0\n",
      "701  24.0     7.0\n",
      "702  35.0     6.0\n",
      "703  26.0     8.0\n",
      "\n",
      "[701 rows x 2 columns]\n"
     ]
    }
   ],
   "source": [
    "X_num=X[['age','result']]\n",
    "print(X_num)"
   ]
  },
  {
   "cell_type": "markdown",
   "id": "a127a883",
   "metadata": {},
   "source": [
    "#### Scaling the numerical variables"
   ]
  },
  {
   "cell_type": "code",
   "execution_count": 196,
   "id": "83c95e2b",
   "metadata": {},
   "outputs": [],
   "source": [
    "X_num = preprocessing.StandardScaler().fit_transform(X_num)"
   ]
  },
  {
   "cell_type": "markdown",
   "id": "1847f91b",
   "metadata": {},
   "source": [
    "#### Converting the categorical variables into numerical labels"
   ]
  },
  {
   "cell_type": "code",
   "execution_count": 197,
   "id": "26bb737b",
   "metadata": {},
   "outputs": [],
   "source": [
    "X_cat = pd.get_dummies(X_cat)\n",
    "Y = pd.get_dummies(Y)"
   ]
  },
  {
   "cell_type": "markdown",
   "id": "5aa40e39",
   "metadata": {},
   "source": [
    "#### Dimensions of the dataframes for categorical, numerical and response variable"
   ]
  },
  {
   "cell_type": "code",
   "execution_count": 200,
   "id": "38b2d06e",
   "metadata": {},
   "outputs": [
    {
     "name": "stdout",
     "output_type": "stream",
     "text": [
      "(701, 2)\n",
      "(701, 84)\n",
      "(701, 2)\n"
     ]
    }
   ],
   "source": [
    "print(X_num.shape)\n",
    "print(X_cat.shape)\n",
    "print(Y.shape)"
   ]
  },
  {
   "cell_type": "code",
   "execution_count": 201,
   "id": "f2616fd3",
   "metadata": {},
   "outputs": [
    {
     "name": "stdout",
     "output_type": "stream",
     "text": [
      "gender_f                        0\n",
      "gender_m                        0\n",
      "ethnicity_Asian                 0\n",
      "ethnicity_Black                 0\n",
      "ethnicity_Hispanic              0\n",
      "                               ..\n",
      "country_United Arab Emirates    0\n",
      "country_United Kingdom          0\n",
      "country_United States           0\n",
      "country_Uruguay                 0\n",
      "country_Viet Nam                0\n",
      "Length: 84, dtype: int64\n"
     ]
    }
   ],
   "source": [
    "print(X_cat.isnull().sum())"
   ]
  },
  {
   "cell_type": "code",
   "execution_count": 202,
   "id": "c1fb42e0",
   "metadata": {},
   "outputs": [
    {
     "name": "stdout",
     "output_type": "stream",
     "text": [
      "   gender_f  gender_m  ethnicity_Asian  ethnicity_Black  ethnicity_Hispanic  \\\n",
      "0         1         0                0                0                   0   \n",
      "1         0         1                0                0                   0   \n",
      "2         0         1                0                0                   0   \n",
      "3         1         0                0                0                   0   \n",
      "4         1         0                0                0                   0   \n",
      "\n",
      "   ethnicity_Latino  ethnicity_Middle Eastern   ethnicity_Others  \\\n",
      "0                 0                          0                 0   \n",
      "1                 1                          0                 0   \n",
      "2                 1                          0                 0   \n",
      "3                 0                          0                 0   \n",
      "4                 0                          0                 0   \n",
      "\n",
      "   ethnicity_Pasifika  ethnicity_South Asian  ...  country_Sri Lanka  \\\n",
      "0                   0                      0  ...                  0   \n",
      "1                   0                      0  ...                  0   \n",
      "2                   0                      0  ...                  0   \n",
      "3                   0                      0  ...                  0   \n",
      "4                   0                      0  ...                  0   \n",
      "\n",
      "   country_Sweden  country_Tonga  country_Turkey  country_Ukraine  \\\n",
      "0               0              0               0                0   \n",
      "1               0              0               0                0   \n",
      "2               0              0               0                0   \n",
      "3               0              0               0                0   \n",
      "4               0              0               0                0   \n",
      "\n",
      "   country_United Arab Emirates  country_United Kingdom  \\\n",
      "0                             0                       0   \n",
      "1                             0                       0   \n",
      "2                             0                       0   \n",
      "3                             0                       0   \n",
      "4                             0                       0   \n",
      "\n",
      "   country_United States  country_Uruguay  country_Viet Nam  \n",
      "0                      1                0                 0  \n",
      "1                      0                0                 0  \n",
      "2                      0                0                 0  \n",
      "3                      1                0                 0  \n",
      "4                      0                0                 0  \n",
      "\n",
      "[5 rows x 84 columns]\n",
      "   NO  YES\n",
      "0   1    0\n",
      "1   1    0\n",
      "2   0    1\n",
      "3   1    0\n",
      "4   1    0\n"
     ]
    }
   ],
   "source": [
    "print(X_cat.head())\n",
    "print(Y.head())"
   ]
  },
  {
   "cell_type": "markdown",
   "id": "ccadd590",
   "metadata": {},
   "source": [
    "#### Dividing the data into test and traing data set`"
   ]
  },
  {
   "cell_type": "markdown",
   "id": "644ecb9c",
   "metadata": {},
   "source": [
    "After scaling the numerical variables and converting the categorical variables into dummy values. Combined both to perform KNN model on our data. "
   ]
  },
  {
   "cell_type": "code",
   "execution_count": 203,
   "id": "1ee40921",
   "metadata": {},
   "outputs": [],
   "source": [
    "X_num=pd.DataFrame(X_num,columns=['age','result'])\n",
    "X=pd.concat([X_num.reset_index(), X_cat.reset_index()], axis=1)\n"
   ]
  },
  {
   "cell_type": "code",
   "execution_count": 204,
   "id": "a1ea6cc5",
   "metadata": {},
   "outputs": [
    {
     "data": {
      "text/plain": [
       "(701, 88)"
      ]
     },
     "execution_count": 204,
     "metadata": {},
     "output_type": "execute_result"
    }
   ],
   "source": [
    "X.shape"
   ]
  },
  {
   "cell_type": "code",
   "execution_count": 205,
   "id": "7ddd72dc",
   "metadata": {},
   "outputs": [
    {
     "data": {
      "text/plain": [
       "NO     0\n",
       "YES    0\n",
       "dtype: int64"
      ]
     },
     "execution_count": 205,
     "metadata": {},
     "output_type": "execute_result"
    }
   ],
   "source": [
    "Y.isnull().sum()"
   ]
  },
  {
   "cell_type": "code",
   "execution_count": 206,
   "id": "64733d95",
   "metadata": {},
   "outputs": [],
   "source": [
    "X_train, X_test, y_train, y_test = train_test_split(X, Y, test_size=0.33, random_state=42)"
   ]
  },
  {
   "cell_type": "markdown",
   "id": "3d2d0e3a",
   "metadata": {},
   "source": [
    "#### Performing KNN alogorthtim on different k values "
   ]
  },
  {
   "cell_type": "markdown",
   "id": "1f7e6904",
   "metadata": {},
   "source": [
    "The KNN model is run on the dataset for k=10 to 35. After that, used KNN score to identify the best k value for our tarin data"
   ]
  },
  {
   "cell_type": "code",
   "execution_count": 207,
   "id": "5f1e4118",
   "metadata": {},
   "outputs": [],
   "source": [
    "knnscore = []\n",
    "for i in range(10,35):\n",
    "     knn = KNeighborsClassifier(n_neighbors=i)\n",
    "     knn.fit(X_train,y_train)\n",
    "     k_score=knn.score(X_train,y_train)\n",
    "     knnscore.append((i,k_score))"
   ]
  },
  {
   "cell_type": "markdown",
   "id": "705fe23e",
   "metadata": {},
   "source": [
    "From the below data frame, we can see that when k=17, the KNN score is 0.782516 for the train data."
   ]
  },
  {
   "cell_type": "code",
   "execution_count": 208,
   "id": "c069c273",
   "metadata": {},
   "outputs": [
    {
     "name": "stdout",
     "output_type": "stream",
     "text": [
      "     K  KNN Score for train data\n",
      "0   10                  0.710021\n",
      "1   11                  0.759062\n",
      "2   12                  0.733475\n",
      "3   13                  0.769723\n",
      "4   14                  0.739872\n",
      "5   15                  0.771855\n",
      "6   16                  0.750533\n",
      "7   17                  0.782516\n",
      "8   18                  0.729211\n",
      "9   19                  0.754797\n",
      "10  20                  0.731343\n",
      "11  21                  0.746269\n",
      "12  22                  0.720682\n",
      "13  23                  0.737740\n",
      "14  24                  0.727079\n",
      "15  25                  0.739872\n",
      "16  26                  0.733475\n",
      "17  27                  0.742004\n",
      "18  28                  0.735608\n",
      "19  29                  0.744136\n",
      "20  30                  0.733475\n",
      "21  31                  0.744136\n",
      "22  32                  0.735608\n",
      "23  33                  0.742004\n",
      "24  34                  0.735608\n"
     ]
    }
   ],
   "source": [
    "knnscore=pd.DataFrame(knnscore,columns=['K','KNN Score for train data'])\n",
    "print(knnscore)"
   ]
  },
  {
   "cell_type": "markdown",
   "id": "eee6108f",
   "metadata": {},
   "source": [
    "#### Performing KNN model with k=17"
   ]
  },
  {
   "cell_type": "code",
   "execution_count": 209,
   "id": "32d78a14",
   "metadata": {},
   "outputs": [],
   "source": [
    "knn= KNeighborsClassifier(n_neighbors=17)"
   ]
  },
  {
   "cell_type": "code",
   "execution_count": 210,
   "id": "4ffc17fa",
   "metadata": {},
   "outputs": [
    {
     "data": {
      "text/plain": [
       "KNeighborsClassifier(n_neighbors=17)"
      ]
     },
     "execution_count": 210,
     "metadata": {},
     "output_type": "execute_result"
    }
   ],
   "source": [
    "knn.fit(X_train, y_train)"
   ]
  },
  {
   "cell_type": "markdown",
   "id": "11743ff5",
   "metadata": {},
   "source": [
    "THe KNN score for the test data is 0.7"
   ]
  },
  {
   "cell_type": "code",
   "execution_count": 211,
   "id": "4e94cab5",
   "metadata": {},
   "outputs": [
    {
     "data": {
      "text/plain": [
       "0.7025862068965517"
      ]
     },
     "execution_count": 211,
     "metadata": {},
     "output_type": "execute_result"
    }
   ],
   "source": [
    "knn.score(X_test,y_test)"
   ]
  },
  {
   "cell_type": "markdown",
   "id": "ef98c291",
   "metadata": {},
   "source": [
    "#### predicting using our fitted model"
   ]
  },
  {
   "cell_type": "code",
   "execution_count": 212,
   "id": "caa44263",
   "metadata": {},
   "outputs": [],
   "source": [
    "preds = knn.predict(X_test)"
   ]
  },
  {
   "cell_type": "code",
   "execution_count": 213,
   "id": "ae7e2182",
   "metadata": {},
   "outputs": [],
   "source": [
    "preds=np.argmax(preds, axis = 1)"
   ]
  },
  {
   "cell_type": "markdown",
   "id": "fede8805",
   "metadata": {},
   "source": [
    "#### Evaluating our model"
   ]
  },
  {
   "cell_type": "markdown",
   "id": "048e7a66",
   "metadata": {},
   "source": [
    "Below shows the accuracy rate of our model predicting the individuals in ASD class"
   ]
  },
  {
   "cell_type": "code",
   "execution_count": 214,
   "id": "de014fa3",
   "metadata": {},
   "outputs": [
    {
     "name": "stdout",
     "output_type": "stream",
     "text": [
      "0.7025862068965517\n"
     ]
    }
   ],
   "source": [
    "print(accuracy_score(y_test[['YES']], preds))"
   ]
  },
  {
   "cell_type": "markdown",
   "id": "3bb04f01",
   "metadata": {},
   "source": [
    "Below shows the confusion matrix for our model.\n",
    "True positives(Count which the model identified ASD class correctly) : 154\n",
    "True negatives (Count which the model identified non ASD class correctly) : 9\n",
    "False positives (Count which the model incorrectly classified the adult into ASD class) : 19\n",
    "False negatives (Count which the model incorrectly classified the adult into non- ASD class) : 50\n"
   ]
  },
  {
   "cell_type": "code",
   "execution_count": 215,
   "id": "7ffd3ebc",
   "metadata": {},
   "outputs": [
    {
     "data": {
      "text/plain": [
       "array([[154,  19],\n",
       "       [ 50,   9]], dtype=int64)"
      ]
     },
     "execution_count": 215,
     "metadata": {},
     "output_type": "execute_result"
    }
   ],
   "source": [
    "c=confusion_matrix(y_test[['YES']], preds)\n",
    "#confusion_matrix(y_test.values.argmax(axis=1), predictions.argmax(axis=1))\n",
    "c"
   ]
  },
  {
   "cell_type": "markdown",
   "id": "13875990",
   "metadata": {},
   "source": [
    "The below heatmap shows the visual representation of the confusion matrix. The 0 represents class ASD= YES and 1 represents class ASD= NO"
   ]
  },
  {
   "cell_type": "code",
   "execution_count": 216,
   "id": "82c8916a",
   "metadata": {},
   "outputs": [
    {
     "data": {
      "image/png": "[encoded data removed]",
      "text/plain": [
       "<Figure size 720x360 with 2 Axes>"
      ]
     },
     "metadata": {
      "needs_background": "light"
     },
     "output_type": "display_data"
    }
   ],
   "source": [
    "plt.figure(figsize=(10,5))\n",
    "sn.heatmap(c,annot=True)\n",
    "plt.xlabel('Predicted')\n",
    "plt.ylabel('Actual')\n",
    "plt.show()"
   ]
  },
  {
   "cell_type": "markdown",
   "id": "5e9b09b9",
   "metadata": {},
   "source": [
    "### Conclusion"
   ]
  },
  {
   "cell_type": "markdown",
   "id": "074e81b6",
   "metadata": {},
   "source": [
    "The identified model has as accuracy rate 0.703 in identifying an adult comes under the ASD class. However, the number of false negatives are comparitively higher which could affect in identifying some of the individuals under class ASD."
   ]
  }
 ],
 "metadata": {
  "kernelspec": {
   "display_name": "Python 3 (ipykernel)",
   "language": "python",
   "name": "python3"
  },
  "language_info": {
   "codemirror_mode": {
    "name": "ipython",
    "version": 3
   },
   "file_extension": ".py",
   "mimetype": "text/x-python",
   "name": "python",
   "nbconvert_exporter": "python",
   "pygments_lexer": "ipython3",
   "version": "3.9.7"
  }
 },
 "nbformat": 4,
 "nbformat_minor": 5
}
